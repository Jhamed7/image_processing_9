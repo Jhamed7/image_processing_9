{
 "cells": [
  {
   "cell_type": "code",
   "execution_count": 87,
   "id": "1e026756",
   "metadata": {},
   "outputs": [],
   "source": [
    "import cv2\n",
    "import matplotlib.pyplot as plt\n",
    "import numpy as np"
   ]
  },
  {
   "cell_type": "code",
   "execution_count": 88,
   "id": "f49d10c2",
   "metadata": {},
   "outputs": [
    {
     "data": {
      "text/plain": [
       "<matplotlib.image.AxesImage at 0x24344668b48>"
      ]
     },
     "execution_count": 88,
     "metadata": {},
     "output_type": "execute_result"
    },
    {
     "data": {
      "image/png": "[encoded data removed]",
      "text/plain": [
       "<Figure size 432x288 with 1 Axes>"
      ]
     },
     "metadata": {
      "needs_background": "light"
     },
     "output_type": "display_data"
    }
   ],
   "source": [
    "image = cv2.imread('files/puma.jpg', cv2.IMREAD_GRAYSCALE)\n",
    "_, thresh = cv2.threshold(image, 127, 255, cv2.THRESH_BINARY)\n",
    "plt.imshow(thresh, cmap='gray')"
   ]
  },
  {
   "cell_type": "code",
   "execution_count": 89,
   "id": "4a94af93",
   "metadata": {},
   "outputs": [
    {
     "data": {
      "text/plain": [
       "<matplotlib.image.AxesImage at 0x243446ecb08>"
      ]
     },
     "execution_count": 89,
     "metadata": {},
     "output_type": "execute_result"
    },
    {
     "data": {
      "image/png": "[encoded data removed]",
      "text/plain": [
       "<Figure size 432x288 with 1 Axes>"
      ]
     },
     "metadata": {
      "needs_background": "light"
     },
     "output_type": "display_data"
    }
   ],
   "source": [
    "thresh = 255 - thresh\n",
    "plt.imshow(thresh, cmap='gray')"
   ]
  },
  {
   "cell_type": "code",
   "execution_count": 90,
   "id": "6dd8948e",
   "metadata": {},
   "outputs": [],
   "source": [
    "contours, hierarchy = cv2.findContours(thresh, cv2.RETR_EXTERNAL, cv2.CHAIN_APPROX_SIMPLE)"
   ]
  },
  {
   "cell_type": "code",
   "execution_count": 91,
   "id": "a9fa964a",
   "metadata": {},
   "outputs": [
    {
     "name": "stdout",
     "output_type": "stream",
     "text": [
      "<class 'list'>\n",
      "6\n",
      "[[[584 308]]\n",
      "\n",
      " [[583 309]]\n",
      "\n",
      " [[581 309]]\n",
      "\n",
      " [[580 310]]\n",
      "\n",
      " [[578 310]]\n",
      "\n",
      " [[577 311]]\n",
      "\n",
      " [[576 311]]\n",
      "\n",
      " [[570 317]]\n",
      "\n",
      " [[570 318]]\n",
      "\n",
      " [[569 319]]\n",
      "\n",
      " [[569 321]]\n",
      "\n",
      " [[568 322]]\n",
      "\n",
      " [[568 326]]\n",
      "\n",
      " [[567 327]]\n",
      "\n",
      " [[567 329]]\n",
      "\n",
      " [[568 330]]\n",
      "\n",
      " [[568 334]]\n",
      "\n",
      " [[569 335]]\n",
      "\n",
      " [[569 336]]\n",
      "\n",
      " [[570 337]]\n",
      "\n",
      " [[570 338]]\n",
      "\n",
      " [[573 341]]\n",
      "\n",
      " [[573 342]]\n",
      "\n",
      " [[574 342]]\n",
      "\n",
      " [[576 344]]\n",
      "\n",
      " [[577 344]]\n",
      "\n",
      " [[578 345]]\n",
      "\n",
      " [[579 345]]\n",
      "\n",
      " [[580 346]]\n",
      "\n",
      " [[582 346]]\n",
      "\n",
      " [[583 347]]\n",
      "\n",
      " [[591 347]]\n",
      "\n",
      " [[592 346]]\n",
      "\n",
      " [[594 346]]\n",
      "\n",
      " [[595 345]]\n",
      "\n",
      " [[596 345]]\n",
      "\n",
      " [[598 343]]\n",
      "\n",
      " [[599 343]]\n",
      "\n",
      " [[602 340]]\n",
      "\n",
      " [[602 339]]\n",
      "\n",
      " [[604 337]]\n",
      "\n",
      " [[604 336]]\n",
      "\n",
      " [[605 335]]\n",
      "\n",
      " [[605 331]]\n",
      "\n",
      " [[606 330]]\n",
      "\n",
      " [[606 325]]\n",
      "\n",
      " [[605 324]]\n",
      "\n",
      " [[605 321]]\n",
      "\n",
      " [[604 320]]\n",
      "\n",
      " [[604 319]]\n",
      "\n",
      " [[603 318]]\n",
      "\n",
      " [[603 317]]\n",
      "\n",
      " [[597 311]]\n",
      "\n",
      " [[596 311]]\n",
      "\n",
      " [[595 310]]\n",
      "\n",
      " [[594 310]]\n",
      "\n",
      " [[593 309]]\n",
      "\n",
      " [[589 309]]\n",
      "\n",
      " [[588 308]]]\n"
     ]
    }
   ],
   "source": [
    "print(type(contours))\n",
    "print(len(contours))\n",
    "print(contours[0])"
   ]
  },
  {
   "cell_type": "code",
   "execution_count": 92,
   "id": "7311231a",
   "metadata": {},
   "outputs": [
    {
     "name": "stdout",
     "output_type": "stream",
     "text": [
      "<class 'numpy.ndarray'> (1, 6, 4)\n",
      "1\n",
      "[[ 2  0 -1 -1]]\n"
     ]
    }
   ],
   "source": [
    "print(type(hierarchy), hierarchy.shape)\n",
    "print(len(hierarchy))\n",
    "print(hierarchy[:,1,:])"
   ]
  },
  {
   "cell_type": "code",
   "execution_count": 93,
   "id": "336c32bc",
   "metadata": {},
   "outputs": [
    {
     "name": "stdout",
     "output_type": "stream",
     "text": [
      "0\n",
      "1\n",
      "2\n",
      "3\n",
      "4\n",
      "5\n"
     ]
    }
   ],
   "source": [
    "for i in range(len(contours)):\n",
    "    if len(contours[i])>20:\n",
    "        print(i)"
   ]
  },
  {
   "cell_type": "code",
   "execution_count": 94,
   "id": "36ac0385",
   "metadata": {},
   "outputs": [
    {
     "data": {
      "text/plain": [
       "array([[0, 0, 0, ..., 0, 0, 0],\n",
       "       [0, 0, 0, ..., 0, 0, 0],\n",
       "       [0, 0, 0, ..., 0, 0, 0],\n",
       "       ...,\n",
       "       [0, 0, 0, ..., 0, 0, 0],\n",
       "       [0, 0, 0, ..., 0, 0, 0],\n",
       "       [0, 0, 0, ..., 0, 0, 0]], dtype=uint8)"
      ]
     },
     "execution_count": 94,
     "metadata": {},
     "output_type": "execute_result"
    }
   ],
   "source": [
    "cv2.drawContours(thresh, [contours[0]], -1, (0,255,0), 3)"
   ]
  },
  {
   "cell_type": "code",
   "execution_count": 95,
   "id": "e71f08d3",
   "metadata": {},
   "outputs": [
    {
     "data": {
      "text/plain": [
       "<matplotlib.image.AxesImage at 0x24344773e08>"
      ]
     },
     "execution_count": 95,
     "metadata": {},
     "output_type": "execute_result"
    },
    {
     "data": {
      "image/png": "[encoded data removed]",
      "text/plain": [
       "<Figure size 432x288 with 1 Axes>"
      ]
     },
     "metadata": {
      "needs_background": "light"
     },
     "output_type": "display_data"
    }
   ],
   "source": [
    "for c in contours:\n",
    "    if len(c)>20:\n",
    "        x, y, w, h = cv2.boundingRect(c)\n",
    "        cv2.rectangle(thresh, (x, y), (x+w, y+h), (127,127,127), 4)\n",
    "plt.imshow(thresh, cmap='gray')"
   ]
  },
  {
   "cell_type": "code",
   "execution_count": null,
   "id": "2dfc8562",
   "metadata": {},
   "outputs": [],
   "source": []
  }
 ],
 "metadata": {
  "kernelspec": {
   "display_name": "Python 3",
   "language": "python",
   "name": "python3"
  },
  "language_info": {
   "codemirror_mode": {
    "name": "ipython",
    "version": 3
   },
   "file_extension": ".py",
   "mimetype": "text/x-python",
   "name": "python",
   "nbconvert_exporter": "python",
   "pygments_lexer": "ipython3",
   "version": "3.7.10"
  }
 },
 "nbformat": 4,
 "nbformat_minor": 5
}
